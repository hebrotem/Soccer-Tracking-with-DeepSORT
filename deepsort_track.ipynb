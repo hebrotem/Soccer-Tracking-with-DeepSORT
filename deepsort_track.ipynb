{
  "nbformat": 4,
  "nbformat_minor": 0,
  "metadata": {
    "colab": {
      "provenance": [],
      "mount_file_id": "1Cmg3mpfeVE-Z877-TAYNcftT-H5agUUP",
      "authorship_tag": "ABX9TyNT3gqAcRWKpmZtjeKiqd6i",
      "include_colab_link": true
    },
    "kernelspec": {
      "name": "python3",
      "display_name": "Python 3"
    },
    "language_info": {
      "name": "python"
    },
    "accelerator": "GPU",
    "gpuClass": "standard"
  },
  "cells": [
    {
      "cell_type": "markdown",
      "metadata": {
        "id": "view-in-github",
        "colab_type": "text"
      },
      "source": [
        "<a href=\"https://colab.research.google.com/github/hebrotem/Soccer-Tracking-with-DeepSORT/blob/main/deepsort_track.ipynb\" target=\"_parent\"><img src=\"https://colab.research.google.com/assets/colab-badge.svg\" alt=\"Open In Colab\"/></a>"
      ]
    },
    {
      "cell_type": "code",
      "execution_count": null,
      "metadata": {
        "colab": {
          "base_uri": "https://localhost:8080/"
        },
        "id": "dT8nOX6Ak7oF",
        "outputId": "d4638317-5e7e-4b14-c85d-221fa0fe2032"
      },
      "outputs": [
        {
          "output_type": "stream",
          "name": "stdout",
          "text": [
            "Cloning into 'yolov5'...\n",
            "remote: Enumerating objects: 15005, done.\u001b[K\n",
            "remote: Counting objects: 100% (3/3), done.\u001b[K\n",
            "remote: Compressing objects: 100% (3/3), done.\u001b[K\n",
            "remote: Total 15005 (delta 0), reused 0 (delta 0), pack-reused 15002\u001b[K\n",
            "Receiving objects: 100% (15005/15005), 14.09 MiB | 31.63 MiB/s, done.\n",
            "Resolving deltas: 100% (10291/10291), done.\n"
          ]
        }
      ],
      "source": [
        "!mkdir ./yolov5_deepsort\n",
        "!git clone https://github.com/ultralytics/yolov5.git"
      ]
    },
    {
      "cell_type": "code",
      "source": [
        "%cd ./yolov5\n",
        "!pip install -r requirements.txt"
      ],
      "metadata": {
        "colab": {
          "base_uri": "https://localhost:8080/"
        },
        "id": "CK9M37IOlMeh",
        "outputId": "8ea6b356-3c04-4be0-d669-9e391f2b57a5"
      },
      "execution_count": null,
      "outputs": [
        {
          "output_type": "stream",
          "name": "stdout",
          "text": [
            "/content/yolov5\n",
            "Looking in indexes: https://pypi.org/simple, https://us-python.pkg.dev/colab-wheels/public/simple/\n",
            "Collecting gitpython\n",
            "  Downloading GitPython-3.1.30-py3-none-any.whl (184 kB)\n",
            "\u001b[2K     \u001b[90m━━━━━━━━━━━━━━━━━━━━━━━━━━━━━━━━━━━━━━━\u001b[0m \u001b[32m184.0/184.0 KB\u001b[0m \u001b[31m5.8 MB/s\u001b[0m eta \u001b[36m0:00:00\u001b[0m\n",
            "\u001b[?25hRequirement already satisfied: ipython in /usr/local/lib/python3.8/dist-packages (from -r requirements.txt (line 6)) (7.9.0)\n",
            "Requirement already satisfied: matplotlib>=3.2.2 in /usr/local/lib/python3.8/dist-packages (from -r requirements.txt (line 7)) (3.2.2)\n",
            "Requirement already satisfied: numpy>=1.18.5 in /usr/local/lib/python3.8/dist-packages (from -r requirements.txt (line 8)) (1.21.6)\n",
            "Requirement already satisfied: opencv-python>=4.1.1 in /usr/local/lib/python3.8/dist-packages (from -r requirements.txt (line 9)) (4.6.0.66)\n",
            "Requirement already satisfied: Pillow>=7.1.2 in /usr/local/lib/python3.8/dist-packages (from -r requirements.txt (line 10)) (7.1.2)\n",
            "Requirement already satisfied: psutil in /usr/local/lib/python3.8/dist-packages (from -r requirements.txt (line 11)) (5.4.8)\n",
            "Requirement already satisfied: PyYAML>=5.3.1 in /usr/local/lib/python3.8/dist-packages (from -r requirements.txt (line 12)) (6.0)\n",
            "Requirement already satisfied: requests>=2.23.0 in /usr/local/lib/python3.8/dist-packages (from -r requirements.txt (line 13)) (2.25.1)\n",
            "Requirement already satisfied: scipy>=1.4.1 in /usr/local/lib/python3.8/dist-packages (from -r requirements.txt (line 14)) (1.7.3)\n",
            "Collecting thop>=0.1.1\n",
            "  Downloading thop-0.1.1.post2209072238-py3-none-any.whl (15 kB)\n",
            "Requirement already satisfied: torch>=1.7.0 in /usr/local/lib/python3.8/dist-packages (from -r requirements.txt (line 16)) (1.13.1+cu116)\n",
            "Requirement already satisfied: torchvision>=0.8.1 in /usr/local/lib/python3.8/dist-packages (from -r requirements.txt (line 17)) (0.14.1+cu116)\n",
            "Requirement already satisfied: tqdm>=4.64.0 in /usr/local/lib/python3.8/dist-packages (from -r requirements.txt (line 18)) (4.64.1)\n",
            "Requirement already satisfied: tensorboard>=2.4.1 in /usr/local/lib/python3.8/dist-packages (from -r requirements.txt (line 22)) (2.9.1)\n",
            "Requirement already satisfied: pandas>=1.1.4 in /usr/local/lib/python3.8/dist-packages (from -r requirements.txt (line 27)) (1.3.5)\n",
            "Requirement already satisfied: seaborn>=0.11.0 in /usr/local/lib/python3.8/dist-packages (from -r requirements.txt (line 28)) (0.11.2)\n",
            "Collecting gitdb<5,>=4.0.1\n",
            "  Downloading gitdb-4.0.10-py3-none-any.whl (62 kB)\n",
            "\u001b[2K     \u001b[90m━━━━━━━━━━━━━━━━━━━━━━━━━━━━━━━━━━━━━━━━\u001b[0m \u001b[32m62.7/62.7 KB\u001b[0m \u001b[31m6.8 MB/s\u001b[0m eta \u001b[36m0:00:00\u001b[0m\n",
            "\u001b[?25hRequirement already satisfied: backcall in /usr/local/lib/python3.8/dist-packages (from ipython->-r requirements.txt (line 6)) (0.2.0)\n",
            "Requirement already satisfied: pygments in /usr/local/lib/python3.8/dist-packages (from ipython->-r requirements.txt (line 6)) (2.6.1)\n",
            "Requirement already satisfied: pickleshare in /usr/local/lib/python3.8/dist-packages (from ipython->-r requirements.txt (line 6)) (0.7.5)\n",
            "Requirement already satisfied: setuptools>=18.5 in /usr/local/lib/python3.8/dist-packages (from ipython->-r requirements.txt (line 6)) (57.4.0)\n",
            "Requirement already satisfied: pexpect in /usr/local/lib/python3.8/dist-packages (from ipython->-r requirements.txt (line 6)) (4.8.0)\n",
            "Requirement already satisfied: traitlets>=4.2 in /usr/local/lib/python3.8/dist-packages (from ipython->-r requirements.txt (line 6)) (5.7.1)\n",
            "Collecting jedi>=0.10\n",
            "  Downloading jedi-0.18.2-py2.py3-none-any.whl (1.6 MB)\n",
            "\u001b[2K     \u001b[90m━━━━━━━━━━━━━━━━━━━━━━━━━━━━━━━━━━━━━━━━\u001b[0m \u001b[32m1.6/1.6 MB\u001b[0m \u001b[31m27.2 MB/s\u001b[0m eta \u001b[36m0:00:00\u001b[0m\n",
            "\u001b[?25hRequirement already satisfied: decorator in /usr/local/lib/python3.8/dist-packages (from ipython->-r requirements.txt (line 6)) (4.4.2)\n",
            "Requirement already satisfied: prompt-toolkit<2.1.0,>=2.0.0 in /usr/local/lib/python3.8/dist-packages (from ipython->-r requirements.txt (line 6)) (2.0.10)\n",
            "Requirement already satisfied: cycler>=0.10 in /usr/local/lib/python3.8/dist-packages (from matplotlib>=3.2.2->-r requirements.txt (line 7)) (0.11.0)\n",
            "Requirement already satisfied: python-dateutil>=2.1 in /usr/local/lib/python3.8/dist-packages (from matplotlib>=3.2.2->-r requirements.txt (line 7)) (2.8.2)\n",
            "Requirement already satisfied: pyparsing!=2.0.4,!=2.1.2,!=2.1.6,>=2.0.1 in /usr/local/lib/python3.8/dist-packages (from matplotlib>=3.2.2->-r requirements.txt (line 7)) (3.0.9)\n",
            "Requirement already satisfied: kiwisolver>=1.0.1 in /usr/local/lib/python3.8/dist-packages (from matplotlib>=3.2.2->-r requirements.txt (line 7)) (1.4.4)\n",
            "Requirement already satisfied: urllib3<1.27,>=1.21.1 in /usr/local/lib/python3.8/dist-packages (from requests>=2.23.0->-r requirements.txt (line 13)) (1.24.3)\n",
            "Requirement already satisfied: idna<3,>=2.5 in /usr/local/lib/python3.8/dist-packages (from requests>=2.23.0->-r requirements.txt (line 13)) (2.10)\n",
            "Requirement already satisfied: chardet<5,>=3.0.2 in /usr/local/lib/python3.8/dist-packages (from requests>=2.23.0->-r requirements.txt (line 13)) (4.0.0)\n",
            "Requirement already satisfied: certifi>=2017.4.17 in /usr/local/lib/python3.8/dist-packages (from requests>=2.23.0->-r requirements.txt (line 13)) (2022.12.7)\n",
            "Requirement already satisfied: typing-extensions in /usr/local/lib/python3.8/dist-packages (from torch>=1.7.0->-r requirements.txt (line 16)) (4.4.0)\n",
            "Requirement already satisfied: grpcio>=1.24.3 in /usr/local/lib/python3.8/dist-packages (from tensorboard>=2.4.1->-r requirements.txt (line 22)) (1.51.1)\n",
            "Requirement already satisfied: tensorboard-plugin-wit>=1.6.0 in /usr/local/lib/python3.8/dist-packages (from tensorboard>=2.4.1->-r requirements.txt (line 22)) (1.8.1)\n",
            "Requirement already satisfied: protobuf<3.20,>=3.9.2 in /usr/local/lib/python3.8/dist-packages (from tensorboard>=2.4.1->-r requirements.txt (line 22)) (3.19.6)\n",
            "Requirement already satisfied: werkzeug>=1.0.1 in /usr/local/lib/python3.8/dist-packages (from tensorboard>=2.4.1->-r requirements.txt (line 22)) (1.0.1)\n",
            "Requirement already satisfied: absl-py>=0.4 in /usr/local/lib/python3.8/dist-packages (from tensorboard>=2.4.1->-r requirements.txt (line 22)) (1.4.0)\n",
            "Requirement already satisfied: markdown>=2.6.8 in /usr/local/lib/python3.8/dist-packages (from tensorboard>=2.4.1->-r requirements.txt (line 22)) (3.4.1)\n",
            "Requirement already satisfied: tensorboard-data-server<0.7.0,>=0.6.0 in /usr/local/lib/python3.8/dist-packages (from tensorboard>=2.4.1->-r requirements.txt (line 22)) (0.6.1)\n",
            "Requirement already satisfied: google-auth<3,>=1.6.3 in /usr/local/lib/python3.8/dist-packages (from tensorboard>=2.4.1->-r requirements.txt (line 22)) (2.16.0)\n",
            "Requirement already satisfied: google-auth-oauthlib<0.5,>=0.4.1 in /usr/local/lib/python3.8/dist-packages (from tensorboard>=2.4.1->-r requirements.txt (line 22)) (0.4.6)\n",
            "Requirement already satisfied: wheel>=0.26 in /usr/local/lib/python3.8/dist-packages (from tensorboard>=2.4.1->-r requirements.txt (line 22)) (0.38.4)\n",
            "Requirement already satisfied: pytz>=2017.3 in /usr/local/lib/python3.8/dist-packages (from pandas>=1.1.4->-r requirements.txt (line 27)) (2022.7.1)\n",
            "Collecting smmap<6,>=3.0.1\n",
            "  Downloading smmap-5.0.0-py3-none-any.whl (24 kB)\n",
            "Requirement already satisfied: cachetools<6.0,>=2.0.0 in /usr/local/lib/python3.8/dist-packages (from google-auth<3,>=1.6.3->tensorboard>=2.4.1->-r requirements.txt (line 22)) (5.3.0)\n",
            "Requirement already satisfied: six>=1.9.0 in /usr/local/lib/python3.8/dist-packages (from google-auth<3,>=1.6.3->tensorboard>=2.4.1->-r requirements.txt (line 22)) (1.15.0)\n",
            "Requirement already satisfied: pyasn1-modules>=0.2.1 in /usr/local/lib/python3.8/dist-packages (from google-auth<3,>=1.6.3->tensorboard>=2.4.1->-r requirements.txt (line 22)) (0.2.8)\n",
            "Requirement already satisfied: rsa<5,>=3.1.4 in /usr/local/lib/python3.8/dist-packages (from google-auth<3,>=1.6.3->tensorboard>=2.4.1->-r requirements.txt (line 22)) (4.9)\n",
            "Requirement already satisfied: requests-oauthlib>=0.7.0 in /usr/local/lib/python3.8/dist-packages (from google-auth-oauthlib<0.5,>=0.4.1->tensorboard>=2.4.1->-r requirements.txt (line 22)) (1.3.1)\n",
            "Requirement already satisfied: parso<0.9.0,>=0.8.0 in /usr/local/lib/python3.8/dist-packages (from jedi>=0.10->ipython->-r requirements.txt (line 6)) (0.8.3)\n",
            "Requirement already satisfied: importlib-metadata>=4.4 in /usr/local/lib/python3.8/dist-packages (from markdown>=2.6.8->tensorboard>=2.4.1->-r requirements.txt (line 22)) (6.0.0)\n",
            "Requirement already satisfied: wcwidth in /usr/local/lib/python3.8/dist-packages (from prompt-toolkit<2.1.0,>=2.0.0->ipython->-r requirements.txt (line 6)) (0.2.6)\n",
            "Requirement already satisfied: ptyprocess>=0.5 in /usr/local/lib/python3.8/dist-packages (from pexpect->ipython->-r requirements.txt (line 6)) (0.7.0)\n",
            "Requirement already satisfied: zipp>=0.5 in /usr/local/lib/python3.8/dist-packages (from importlib-metadata>=4.4->markdown>=2.6.8->tensorboard>=2.4.1->-r requirements.txt (line 22)) (3.12.0)\n",
            "Requirement already satisfied: pyasn1<0.5.0,>=0.4.6 in /usr/local/lib/python3.8/dist-packages (from pyasn1-modules>=0.2.1->google-auth<3,>=1.6.3->tensorboard>=2.4.1->-r requirements.txt (line 22)) (0.4.8)\n",
            "Requirement already satisfied: oauthlib>=3.0.0 in /usr/local/lib/python3.8/dist-packages (from requests-oauthlib>=0.7.0->google-auth-oauthlib<0.5,>=0.4.1->tensorboard>=2.4.1->-r requirements.txt (line 22)) (3.2.2)\n",
            "Installing collected packages: smmap, jedi, thop, gitdb, gitpython\n",
            "Successfully installed gitdb-4.0.10 gitpython-3.1.30 jedi-0.18.2 smmap-5.0.0 thop-0.1.1.post2209072238\n"
          ]
        }
      ]
    },
    {
      "cell_type": "code",
      "source": [
        "!git clone https://github.com/nwojke/deep_sort.git"
      ],
      "metadata": {
        "colab": {
          "base_uri": "https://localhost:8080/"
        },
        "id": "t8S7Hg0zlTW5",
        "outputId": "94fd2a3b-e2e0-4d59-86c4-858b6d10afae"
      },
      "execution_count": null,
      "outputs": [
        {
          "output_type": "stream",
          "name": "stdout",
          "text": [
            "Cloning into 'deep_sort'...\n",
            "remote: Enumerating objects: 141, done.\u001b[K\n",
            "Receiving objects:   0% (1/141)\rReceiving objects:   1% (2/141)\rReceiving objects:   2% (3/141)\rReceiving objects:   3% (5/141)\rReceiving objects:   4% (6/141)\rReceiving objects:   5% (8/141)\rReceiving objects:   6% (9/141)\rReceiving objects:   7% (10/141)\rReceiving objects:   8% (12/141)\rReceiving objects:   9% (13/141)\rReceiving objects:  10% (15/141)\rReceiving objects:  11% (16/141)\rReceiving objects:  12% (17/141)\rReceiving objects:  13% (19/141)\rReceiving objects:  14% (20/141)\rReceiving objects:  15% (22/141)\rReceiving objects:  16% (23/141)\rReceiving objects:  17% (24/141)\rReceiving objects:  18% (26/141)\rReceiving objects:  19% (27/141)\rReceiving objects:  20% (29/141)\rReceiving objects:  21% (30/141)\rReceiving objects:  22% (32/141)\rReceiving objects:  23% (33/141)\rReceiving objects:  24% (34/141)\rReceiving objects:  25% (36/141)\rReceiving objects:  26% (37/141)\rReceiving objects:  27% (39/141)\rReceiving objects:  28% (40/141)\rReceiving objects:  29% (41/141)\rReceiving objects:  30% (43/141)\rReceiving objects:  31% (44/141)\rReceiving objects:  32% (46/141)\rReceiving objects:  33% (47/141)\rReceiving objects:  34% (48/141)\rReceiving objects:  35% (50/141)\rReceiving objects:  36% (51/141)\rReceiving objects:  37% (53/141)\rReceiving objects:  38% (54/141)\rReceiving objects:  39% (55/141)\rremote: Total 141 (delta 0), reused 0 (delta 0), pack-reused 141\u001b[K\n",
            "Receiving objects:  40% (57/141)\rReceiving objects:  41% (58/141)\rReceiving objects:  42% (60/141)\rReceiving objects:  43% (61/141)\rReceiving objects:  44% (63/141)\rReceiving objects:  45% (64/141)\rReceiving objects:  46% (65/141)\rReceiving objects:  47% (67/141)\rReceiving objects:  48% (68/141)\rReceiving objects:  49% (70/141)\rReceiving objects:  50% (71/141)\rReceiving objects:  51% (72/141)\rReceiving objects:  52% (74/141)\rReceiving objects:  53% (75/141)\rReceiving objects:  54% (77/141)\rReceiving objects:  55% (78/141)\rReceiving objects:  56% (79/141)\rReceiving objects:  57% (81/141)\rReceiving objects:  58% (82/141)\rReceiving objects:  59% (84/141)\rReceiving objects:  60% (85/141)\rReceiving objects:  61% (87/141)\rReceiving objects:  62% (88/141)\rReceiving objects:  63% (89/141)\rReceiving objects:  64% (91/141)\rReceiving objects:  65% (92/141)\rReceiving objects:  66% (94/141)\rReceiving objects:  67% (95/141)\rReceiving objects:  68% (96/141)\rReceiving objects:  69% (98/141)\rReceiving objects:  70% (99/141)\rReceiving objects:  71% (101/141)\rReceiving objects:  72% (102/141)\rReceiving objects:  73% (103/141)\rReceiving objects:  74% (105/141)\rReceiving objects:  75% (106/141)\rReceiving objects:  76% (108/141)\rReceiving objects:  77% (109/141)\rReceiving objects:  78% (110/141)\rReceiving objects:  79% (112/141)\rReceiving objects:  80% (113/141)\rReceiving objects:  81% (115/141)\rReceiving objects:  82% (116/141)\rReceiving objects:  83% (118/141)\rReceiving objects:  84% (119/141)\rReceiving objects:  85% (120/141)\rReceiving objects:  86% (122/141)\rReceiving objects:  87% (123/141)\rReceiving objects:  88% (125/141)\rReceiving objects:  89% (126/141)\rReceiving objects:  90% (127/141)\rReceiving objects:  91% (129/141)\rReceiving objects:  92% (130/141)\rReceiving objects:  93% (132/141)\rReceiving objects:  94% (133/141)\rReceiving objects:  95% (134/141)\rReceiving objects:  96% (136/141)\rReceiving objects:  97% (137/141)\rReceiving objects:  98% (139/141)\rReceiving objects:  99% (140/141)\rReceiving objects: 100% (141/141)\rReceiving objects: 100% (141/141), 65.59 KiB | 3.12 MiB/s, done.\n",
            "Resolving deltas:   0% (0/78)\rResolving deltas:   3% (3/78)\rResolving deltas:   5% (4/78)\rResolving deltas:   8% (7/78)\rResolving deltas:  11% (9/78)\rResolving deltas:  23% (18/78)\rResolving deltas:  25% (20/78)\rResolving deltas:  39% (31/78)\rResolving deltas:  41% (32/78)\rResolving deltas:  43% (34/78)\rResolving deltas:  51% (40/78)\rResolving deltas:  53% (42/78)\rResolving deltas:  56% (44/78)\rResolving deltas:  61% (48/78)\rResolving deltas:  62% (49/78)\rResolving deltas: 100% (78/78)\rResolving deltas: 100% (78/78), done.\n"
          ]
        }
      ]
    },
    {
      "cell_type": "code",
      "source": [
        "%cd /content/yolov5/\n",
        "!python detect_track.py --weights yolov5m.pt  --img 640  --source '/content/football-video.mp4' --classes 0 32 --line-thickness 1\n"
      ],
      "metadata": {
        "colab": {
          "base_uri": "https://localhost:8080/"
        },
        "id": "SEd8g8RToW35",
        "outputId": "75005bce-c8cc-4479-8848-10e5d338d30a"
      },
      "execution_count": null,
      "outputs": [
        {
          "output_type": "stream",
          "name": "stdout",
          "text": [
            "/content/yolov5\n",
            "python3: can't open file 'detect_track.py': [Errno 2] No such file or directory\n"
          ]
        }
      ]
    },
    {
      "cell_type": "markdown",
      "source": [],
      "metadata": {
        "id": "9dam7bRZ12vL"
      }
    },
    {
      "cell_type": "markdown",
      "source": [
        "## Another repo"
      ],
      "metadata": {
        "id": "aKDQXpTs1zGK"
      }
    },
    {
      "cell_type": "code",
      "source": [
        "!mkdir ./yolov5_deepsort\n",
        "%cd /content/yolov5_deepsort"
      ],
      "metadata": {
        "colab": {
          "base_uri": "https://localhost:8080/"
        },
        "id": "LOJrl_Ie8K5Q",
        "outputId": "b73b455e-80ba-49c1-abc6-cba1a86c47c1"
      },
      "execution_count": null,
      "outputs": [
        {
          "output_type": "stream",
          "name": "stdout",
          "text": [
            "/content/yolov5_deepsort\n"
          ]
        }
      ]
    },
    {
      "cell_type": "code",
      "source": [
        "!git clone --recurse-submodules https://github.com/mikel-brostrom/Yolov5_DeepSort_Pytorch.git"
      ],
      "metadata": {
        "colab": {
          "base_uri": "https://localhost:8080/"
        },
        "id": "6CGJbpts_tWM",
        "outputId": "7901d072-e72c-4427-95bd-9cc507f237e6"
      },
      "execution_count": null,
      "outputs": [
        {
          "output_type": "stream",
          "name": "stdout",
          "text": [
            "Cloning into 'Yolov5_DeepSort_Pytorch'...\n",
            "remote: Enumerating objects: 4408, done.\u001b[K\n",
            "remote: Counting objects:   0% (1/737)\u001b[K\rremote: Counting objects:   1% (8/737)\u001b[K\rremote: Counting objects:   2% (15/737)\u001b[K\rremote: Counting objects:   3% (23/737)\u001b[K\rremote: Counting objects:   4% (30/737)\u001b[K\rremote: Counting objects:   5% (37/737)\u001b[K\rremote: Counting objects:   6% (45/737)\u001b[K\rremote: Counting objects:   7% (52/737)\u001b[K\rremote: Counting objects:   8% (59/737)\u001b[K\rremote: Counting objects:   9% (67/737)\u001b[K\rremote: Counting objects:  10% (74/737)\u001b[K\rremote: Counting objects:  11% (82/737)\u001b[K\rremote: Counting objects:  12% (89/737)\u001b[K\rremote: Counting objects:  13% (96/737)\u001b[K\rremote: Counting objects:  14% (104/737)\u001b[K\rremote: Counting objects:  15% (111/737)\u001b[K\rremote: Counting objects:  16% (118/737)\u001b[K\rremote: Counting objects:  17% (126/737)\u001b[K\rremote: Counting objects:  18% (133/737)\u001b[K\rremote: Counting objects:  19% (141/737)\u001b[K\rremote: Counting objects:  20% (148/737)\u001b[K\rremote: Counting objects:  21% (155/737)\u001b[K\rremote: Counting objects:  22% (163/737)\u001b[K\rremote: Counting objects:  23% (170/737)\u001b[K\rremote: Counting objects:  24% (177/737)\u001b[K\rremote: Counting objects:  25% (185/737)\u001b[K\rremote: Counting objects:  26% (192/737)\u001b[K\rremote: Counting objects:  27% (199/737)\u001b[K\rremote: Counting objects:  28% (207/737)\u001b[K\rremote: Counting objects:  29% (214/737)\u001b[K\rremote: Counting objects:  30% (222/737)\u001b[K\rremote: Counting objects:  31% (229/737)\u001b[K\rremote: Counting objects:  32% (236/737)\u001b[K\rremote: Counting objects:  33% (244/737)\u001b[K\rremote: Counting objects:  34% (251/737)\u001b[K\rremote: Counting objects:  35% (258/737)\u001b[K\rremote: Counting objects:  36% (266/737)\u001b[K\rremote: Counting objects:  37% (273/737)\u001b[K\rremote: Counting objects:  38% (281/737)\u001b[K\rremote: Counting objects:  39% (288/737)\u001b[K\rremote: Counting objects:  40% (295/737)\u001b[K\rremote: Counting objects:  41% (303/737)\u001b[K\rremote: Counting objects:  42% (310/737)\u001b[K\rremote: Counting objects:  43% (317/737)\u001b[K\rremote: Counting objects:  44% (325/737)\u001b[K\rremote: Counting objects:  45% (332/737)\u001b[K\rremote: Counting objects:  46% (340/737)\u001b[K\rremote: Counting objects:  47% (347/737)\u001b[K\rremote: Counting objects:  48% (354/737)\u001b[K\rremote: Counting objects:  49% (362/737)\u001b[K\rremote: Counting objects:  50% (369/737)\u001b[K\rremote: Counting objects:  51% (376/737)\u001b[K\rremote: Counting objects:  52% (384/737)\u001b[K\rremote: Counting objects:  53% (391/737)\u001b[K\rremote: Counting objects:  54% (398/737)\u001b[K\rremote: Counting objects:  55% (406/737)\u001b[K\rremote: Counting objects:  56% (413/737)\u001b[K\rremote: Counting objects:  57% (421/737)\u001b[K\rremote: Counting objects:  58% (428/737)\u001b[K\rremote: Counting objects:  59% (435/737)\u001b[K\rremote: Counting objects:  60% (443/737)\u001b[K\rremote: Counting objects:  61% (450/737)\u001b[K\rremote: Counting objects:  62% (457/737)\u001b[K\rremote: Counting objects:  63% (465/737)\u001b[K\rremote: Counting objects:  64% (472/737)\u001b[K\rremote: Counting objects:  65% (480/737)\u001b[K\rremote: Counting objects:  66% (487/737)\u001b[K\rremote: Counting objects:  67% (494/737)\u001b[K\rremote: Counting objects:  68% (502/737)\u001b[K\rremote: Counting objects:  69% (509/737)\u001b[K\rremote: Counting objects:  70% (516/737)\u001b[K\rremote: Counting objects:  71% (524/737)\u001b[K\rremote: Counting objects:  72% (531/737)\u001b[K\rremote: Counting objects:  73% (539/737)\u001b[K\rremote: Counting objects:  74% (546/737)\u001b[K\rremote: Counting objects:  75% (553/737)\u001b[K\rremote: Counting objects:  76% (561/737)\u001b[K\rremote: Counting objects:  77% (568/737)\u001b[K\rremote: Counting objects:  78% (575/737)\u001b[K\rremote: Counting objects:  79% (583/737)\u001b[K\rremote: Counting objects:  80% (590/737)\u001b[K\rremote: Counting objects:  81% (597/737)\u001b[K\rremote: Counting objects:  82% (605/737)\u001b[K\rremote: Counting objects:  83% (612/737)\u001b[K\rremote: Counting objects:  84% (620/737)\u001b[K\rremote: Counting objects:  85% (627/737)\u001b[K\rremote: Counting objects:  86% (634/737)\u001b[K\rremote: Counting objects:  87% (642/737)\u001b[K\rremote: Counting objects:  88% (649/737)\u001b[K\rremote: Counting objects:  89% (656/737)\u001b[K\rremote: Counting objects:  90% (664/737)\u001b[K\rremote: Counting objects:  91% (671/737)\u001b[K\rremote: Counting objects:  92% (679/737)\u001b[K\rremote: Counting objects:  93% (686/737)\u001b[K\rremote: Counting objects:  94% (693/737)\u001b[K\rremote: Counting objects:  95% (701/737)\u001b[K\rremote: Counting objects:  96% (708/737)\u001b[K\rremote: Counting objects:  97% (715/737)\u001b[K\rremote: Counting objects:  98% (723/737)\u001b[K\rremote: Counting objects:  99% (730/737)\u001b[K\rremote: Counting objects: 100% (737/737)\u001b[K\rremote: Counting objects: 100% (737/737), done.\u001b[K\n",
            "remote: Compressing objects: 100% (340/340), done.\u001b[K\n",
            "remote: Total 4408 (delta 395), reused 675 (delta 360), pack-reused 3671\u001b[K\n",
            "Receiving objects: 100% (4408/4408), 109.38 MiB | 34.38 MiB/s, done.\n",
            "Resolving deltas: 100% (2244/2244), done.\n",
            "Submodule 'yolov8' (https://github.com/ultralytics/ultralytics) registered for path 'yolov8'\n",
            "Cloning into '/content/yolov5_deepsort/Yolov5_DeepSort_Pytorch/yolov8'...\n",
            "remote: Enumerating objects: 4089, done.        \n",
            "remote: Counting objects: 100% (39/39), done.        \n",
            "remote: Compressing objects: 100% (32/32), done.        \n",
            "remote: Total 4089 (delta 6), reused 12 (delta 0), pack-reused 4050        \n",
            "Receiving objects: 100% (4089/4089), 3.66 MiB | 23.12 MiB/s, done.\n",
            "Resolving deltas: 100% (2659/2659), done.\n",
            "Submodule path 'yolov8': checked out '15b3b0365ab2f12993a58985f3cb7f2137409a0c'\n"
          ]
        }
      ]
    },
    {
      "cell_type": "code",
      "source": [
        "%cd /content/yolov5_deepsort/Yolov5_DeepSort_Pytorch\n",
        "!pip install -r requirements.txt"
      ],
      "metadata": {
        "colab": {
          "base_uri": "https://localhost:8080/"
        },
        "id": "3qeSXqfi_19v",
        "outputId": "4e2a4487-0658-4452-833a-f9f270788b5d"
      },
      "execution_count": null,
      "outputs": [
        {
          "output_type": "stream",
          "name": "stdout",
          "text": [
            "/content/yolov5_deepsort/Yolov5_DeepSort_Pytorch\n",
            "Looking in indexes: https://pypi.org/simple, https://us-python.pkg.dev/colab-wheels/public/simple/\n",
            "Collecting ultralytics==8.0.20\n",
            "  Downloading ultralytics-8.0.20-py3-none-any.whl (261 kB)\n",
            "\u001b[2K     \u001b[90m━━━━━━━━━━━━━━━━━━━━━━━━━━━━━━━━━━━━━━━\u001b[0m \u001b[32m261.2/261.2 KB\u001b[0m \u001b[31m6.7 MB/s\u001b[0m eta \u001b[36m0:00:00\u001b[0m\n",
            "\u001b[?25hRequirement already satisfied: gitpython in /usr/local/lib/python3.8/dist-packages (from -r requirements.txt (line 5)) (3.1.30)\n",
            "Requirement already satisfied: ipython in /usr/local/lib/python3.8/dist-packages (from -r requirements.txt (line 6)) (7.9.0)\n",
            "Requirement already satisfied: matplotlib>=3.2.2 in /usr/local/lib/python3.8/dist-packages (from -r requirements.txt (line 7)) (3.2.2)\n",
            "Requirement already satisfied: numpy>=1.18.5 in /usr/local/lib/python3.8/dist-packages (from -r requirements.txt (line 8)) (1.21.6)\n",
            "Requirement already satisfied: opencv-python>=4.1.1 in /usr/local/lib/python3.8/dist-packages (from -r requirements.txt (line 9)) (4.6.0.66)\n",
            "Requirement already satisfied: Pillow>=7.1.2 in /usr/local/lib/python3.8/dist-packages (from -r requirements.txt (line 10)) (7.1.2)\n",
            "Requirement already satisfied: psutil in /usr/local/lib/python3.8/dist-packages (from -r requirements.txt (line 11)) (5.4.8)\n",
            "Requirement already satisfied: PyYAML>=5.3.1 in /usr/local/lib/python3.8/dist-packages (from -r requirements.txt (line 12)) (6.0)\n",
            "Requirement already satisfied: requests>=2.23.0 in /usr/local/lib/python3.8/dist-packages (from -r requirements.txt (line 13)) (2.25.1)\n",
            "Requirement already satisfied: scipy>=1.4.1 in /usr/local/lib/python3.8/dist-packages (from -r requirements.txt (line 14)) (1.7.3)\n",
            "Requirement already satisfied: thop>=0.1.1 in /usr/local/lib/python3.8/dist-packages (from -r requirements.txt (line 15)) (0.1.1.post2209072238)\n",
            "Requirement already satisfied: torch>=1.7.0 in /usr/local/lib/python3.8/dist-packages (from -r requirements.txt (line 16)) (1.13.1+cu116)\n",
            "Requirement already satisfied: torchvision>=0.8.1 in /usr/local/lib/python3.8/dist-packages (from -r requirements.txt (line 17)) (0.14.1+cu116)\n",
            "Requirement already satisfied: tqdm>=4.64.0 in /usr/local/lib/python3.8/dist-packages (from -r requirements.txt (line 18)) (4.64.1)\n",
            "Requirement already satisfied: tensorboard>=2.4.1 in /usr/local/lib/python3.8/dist-packages (from -r requirements.txt (line 22)) (2.9.1)\n",
            "Requirement already satisfied: pandas>=1.1.4 in /usr/local/lib/python3.8/dist-packages (from -r requirements.txt (line 27)) (1.3.5)\n",
            "Requirement already satisfied: seaborn>=0.11.0 in /usr/local/lib/python3.8/dist-packages (from -r requirements.txt (line 28)) (0.11.2)\n",
            "Requirement already satisfied: easydict in /usr/local/lib/python3.8/dist-packages (from -r requirements.txt (line 31)) (1.10)\n",
            "Requirement already satisfied: gdown in /usr/local/lib/python3.8/dist-packages (from -r requirements.txt (line 34)) (4.4.0)\n",
            "Collecting lap\n",
            "  Downloading lap-0.4.0.tar.gz (1.5 MB)\n",
            "\u001b[2K     \u001b[90m━━━━━━━━━━━━━━━━━━━━━━━━━━━━━━━━━━━━━━━━\u001b[0m \u001b[32m1.5/1.5 MB\u001b[0m \u001b[31m29.9 MB/s\u001b[0m eta \u001b[36m0:00:00\u001b[0m\n",
            "\u001b[?25h  Preparing metadata (setup.py) ... \u001b[?25l\u001b[?25hdone\n",
            "Collecting filterpy\n",
            "  Downloading filterpy-1.4.5.zip (177 kB)\n",
            "\u001b[2K     \u001b[90m━━━━━━━━━━━━━━━━━━━━━━━━━━━━━━━━━━━━━━\u001b[0m \u001b[32m178.0/178.0 KB\u001b[0m \u001b[31m24.0 MB/s\u001b[0m eta \u001b[36m0:00:00\u001b[0m\n",
            "\u001b[?25h  Preparing metadata (setup.py) ... \u001b[?25l\u001b[?25hdone\n",
            "Collecting sentry-sdk\n",
            "  Downloading sentry_sdk-1.14.0-py2.py3-none-any.whl (178 kB)\n",
            "\u001b[2K     \u001b[90m━━━━━━━━━━━━━━━━━━━━━━━━━━━━━━━━━━━━━━\u001b[0m \u001b[32m178.9/178.9 KB\u001b[0m \u001b[31m23.1 MB/s\u001b[0m eta \u001b[36m0:00:00\u001b[0m\n",
            "\u001b[?25hRequirement already satisfied: gitdb<5,>=4.0.1 in /usr/local/lib/python3.8/dist-packages (from gitpython->-r requirements.txt (line 5)) (4.0.10)\n",
            "Requirement already satisfied: jedi>=0.10 in /usr/local/lib/python3.8/dist-packages (from ipython->-r requirements.txt (line 6)) (0.18.2)\n",
            "Requirement already satisfied: setuptools>=18.5 in /usr/local/lib/python3.8/dist-packages (from ipython->-r requirements.txt (line 6)) (57.4.0)\n",
            "Requirement already satisfied: backcall in /usr/local/lib/python3.8/dist-packages (from ipython->-r requirements.txt (line 6)) (0.2.0)\n",
            "Requirement already satisfied: pickleshare in /usr/local/lib/python3.8/dist-packages (from ipython->-r requirements.txt (line 6)) (0.7.5)\n",
            "Requirement already satisfied: pexpect in /usr/local/lib/python3.8/dist-packages (from ipython->-r requirements.txt (line 6)) (4.8.0)\n",
            "Requirement already satisfied: traitlets>=4.2 in /usr/local/lib/python3.8/dist-packages (from ipython->-r requirements.txt (line 6)) (5.7.1)\n",
            "Requirement already satisfied: decorator in /usr/local/lib/python3.8/dist-packages (from ipython->-r requirements.txt (line 6)) (4.4.2)\n",
            "Requirement already satisfied: pygments in /usr/local/lib/python3.8/dist-packages (from ipython->-r requirements.txt (line 6)) (2.6.1)\n",
            "Requirement already satisfied: prompt-toolkit<2.1.0,>=2.0.0 in /usr/local/lib/python3.8/dist-packages (from ipython->-r requirements.txt (line 6)) (2.0.10)\n",
            "Requirement already satisfied: kiwisolver>=1.0.1 in /usr/local/lib/python3.8/dist-packages (from matplotlib>=3.2.2->-r requirements.txt (line 7)) (1.4.4)\n",
            "Requirement already satisfied: cycler>=0.10 in /usr/local/lib/python3.8/dist-packages (from matplotlib>=3.2.2->-r requirements.txt (line 7)) (0.11.0)\n",
            "Requirement already satisfied: pyparsing!=2.0.4,!=2.1.2,!=2.1.6,>=2.0.1 in /usr/local/lib/python3.8/dist-packages (from matplotlib>=3.2.2->-r requirements.txt (line 7)) (3.0.9)\n",
            "Requirement already satisfied: python-dateutil>=2.1 in /usr/local/lib/python3.8/dist-packages (from matplotlib>=3.2.2->-r requirements.txt (line 7)) (2.8.2)\n",
            "Requirement already satisfied: chardet<5,>=3.0.2 in /usr/local/lib/python3.8/dist-packages (from requests>=2.23.0->-r requirements.txt (line 13)) (4.0.0)\n",
            "Requirement already satisfied: idna<3,>=2.5 in /usr/local/lib/python3.8/dist-packages (from requests>=2.23.0->-r requirements.txt (line 13)) (2.10)\n",
            "Requirement already satisfied: urllib3<1.27,>=1.21.1 in /usr/local/lib/python3.8/dist-packages (from requests>=2.23.0->-r requirements.txt (line 13)) (1.24.3)\n",
            "Requirement already satisfied: certifi>=2017.4.17 in /usr/local/lib/python3.8/dist-packages (from requests>=2.23.0->-r requirements.txt (line 13)) (2022.12.7)\n",
            "Requirement already satisfied: typing-extensions in /usr/local/lib/python3.8/dist-packages (from torch>=1.7.0->-r requirements.txt (line 16)) (4.4.0)\n",
            "Requirement already satisfied: grpcio>=1.24.3 in /usr/local/lib/python3.8/dist-packages (from tensorboard>=2.4.1->-r requirements.txt (line 22)) (1.51.1)\n",
            "Requirement already satisfied: protobuf<3.20,>=3.9.2 in /usr/local/lib/python3.8/dist-packages (from tensorboard>=2.4.1->-r requirements.txt (line 22)) (3.19.6)\n",
            "Requirement already satisfied: tensorboard-data-server<0.7.0,>=0.6.0 in /usr/local/lib/python3.8/dist-packages (from tensorboard>=2.4.1->-r requirements.txt (line 22)) (0.6.1)\n",
            "Requirement already satisfied: google-auth-oauthlib<0.5,>=0.4.1 in /usr/local/lib/python3.8/dist-packages (from tensorboard>=2.4.1->-r requirements.txt (line 22)) (0.4.6)\n",
            "Requirement already satisfied: werkzeug>=1.0.1 in /usr/local/lib/python3.8/dist-packages (from tensorboard>=2.4.1->-r requirements.txt (line 22)) (1.0.1)\n",
            "Requirement already satisfied: markdown>=2.6.8 in /usr/local/lib/python3.8/dist-packages (from tensorboard>=2.4.1->-r requirements.txt (line 22)) (3.4.1)\n",
            "Requirement already satisfied: absl-py>=0.4 in /usr/local/lib/python3.8/dist-packages (from tensorboard>=2.4.1->-r requirements.txt (line 22)) (1.4.0)\n",
            "Requirement already satisfied: tensorboard-plugin-wit>=1.6.0 in /usr/local/lib/python3.8/dist-packages (from tensorboard>=2.4.1->-r requirements.txt (line 22)) (1.8.1)\n",
            "Requirement already satisfied: google-auth<3,>=1.6.3 in /usr/local/lib/python3.8/dist-packages (from tensorboard>=2.4.1->-r requirements.txt (line 22)) (2.16.0)\n",
            "Requirement already satisfied: wheel>=0.26 in /usr/local/lib/python3.8/dist-packages (from tensorboard>=2.4.1->-r requirements.txt (line 22)) (0.38.4)\n",
            "Requirement already satisfied: pytz>=2017.3 in /usr/local/lib/python3.8/dist-packages (from pandas>=1.1.4->-r requirements.txt (line 27)) (2022.7.1)\n",
            "Requirement already satisfied: filelock in /usr/local/lib/python3.8/dist-packages (from gdown->-r requirements.txt (line 34)) (3.9.0)\n",
            "Requirement already satisfied: six in /usr/local/lib/python3.8/dist-packages (from gdown->-r requirements.txt (line 34)) (1.15.0)\n",
            "Requirement already satisfied: beautifulsoup4 in /usr/local/lib/python3.8/dist-packages (from gdown->-r requirements.txt (line 34)) (4.6.3)\n",
            "Requirement already satisfied: smmap<6,>=3.0.1 in /usr/local/lib/python3.8/dist-packages (from gitdb<5,>=4.0.1->gitpython->-r requirements.txt (line 5)) (5.0.0)\n",
            "Requirement already satisfied: cachetools<6.0,>=2.0.0 in /usr/local/lib/python3.8/dist-packages (from google-auth<3,>=1.6.3->tensorboard>=2.4.1->-r requirements.txt (line 22)) (5.3.0)\n",
            "Requirement already satisfied: pyasn1-modules>=0.2.1 in /usr/local/lib/python3.8/dist-packages (from google-auth<3,>=1.6.3->tensorboard>=2.4.1->-r requirements.txt (line 22)) (0.2.8)\n",
            "Requirement already satisfied: rsa<5,>=3.1.4 in /usr/local/lib/python3.8/dist-packages (from google-auth<3,>=1.6.3->tensorboard>=2.4.1->-r requirements.txt (line 22)) (4.9)\n",
            "Requirement already satisfied: requests-oauthlib>=0.7.0 in /usr/local/lib/python3.8/dist-packages (from google-auth-oauthlib<0.5,>=0.4.1->tensorboard>=2.4.1->-r requirements.txt (line 22)) (1.3.1)\n",
            "Requirement already satisfied: parso<0.9.0,>=0.8.0 in /usr/local/lib/python3.8/dist-packages (from jedi>=0.10->ipython->-r requirements.txt (line 6)) (0.8.3)\n",
            "Requirement already satisfied: importlib-metadata>=4.4 in /usr/local/lib/python3.8/dist-packages (from markdown>=2.6.8->tensorboard>=2.4.1->-r requirements.txt (line 22)) (6.0.0)\n",
            "Requirement already satisfied: wcwidth in /usr/local/lib/python3.8/dist-packages (from prompt-toolkit<2.1.0,>=2.0.0->ipython->-r requirements.txt (line 6)) (0.2.6)\n",
            "Requirement already satisfied: ptyprocess>=0.5 in /usr/local/lib/python3.8/dist-packages (from pexpect->ipython->-r requirements.txt (line 6)) (0.7.0)\n",
            "Requirement already satisfied: PySocks!=1.5.7,>=1.5.6 in /usr/local/lib/python3.8/dist-packages (from requests>=2.23.0->-r requirements.txt (line 13)) (1.7.1)\n",
            "Collecting urllib3<1.27,>=1.21.1\n",
            "  Downloading urllib3-1.26.14-py2.py3-none-any.whl (140 kB)\n",
            "\u001b[2K     \u001b[90m━━━━━━━━━━━━━━━━━━━━━━━━━━━━━━━━━━━━━━\u001b[0m \u001b[32m140.6/140.6 KB\u001b[0m \u001b[31m18.8 MB/s\u001b[0m eta \u001b[36m0:00:00\u001b[0m\n",
            "\u001b[?25hRequirement already satisfied: zipp>=0.5 in /usr/local/lib/python3.8/dist-packages (from importlib-metadata>=4.4->markdown>=2.6.8->tensorboard>=2.4.1->-r requirements.txt (line 22)) (3.12.0)\n",
            "Requirement already satisfied: pyasn1<0.5.0,>=0.4.6 in /usr/local/lib/python3.8/dist-packages (from pyasn1-modules>=0.2.1->google-auth<3,>=1.6.3->tensorboard>=2.4.1->-r requirements.txt (line 22)) (0.4.8)\n",
            "Requirement already satisfied: oauthlib>=3.0.0 in /usr/local/lib/python3.8/dist-packages (from requests-oauthlib>=0.7.0->google-auth-oauthlib<0.5,>=0.4.1->tensorboard>=2.4.1->-r requirements.txt (line 22)) (3.2.2)\n",
            "Building wheels for collected packages: lap, filterpy\n",
            "  Building wheel for lap (setup.py) ... \u001b[?25l\u001b[?25hdone\n",
            "  Created wheel for lap: filename=lap-0.4.0-cp38-cp38-linux_x86_64.whl size=1679736 sha256=b37b4902e8ee3d4e468eee502d9032f1ac21c4f7c268e0eb2e398ea5d086d30c\n",
            "  Stored in directory: /root/.cache/pip/wheels/86/ec/8a/2baa6fb3ea3a3bdc40a9c2c4b8957b5b544f207531f7a78a89\n",
            "  Building wheel for filterpy (setup.py) ... \u001b[?25l\u001b[?25hdone\n",
            "  Created wheel for filterpy: filename=filterpy-1.4.5-py3-none-any.whl size=110474 sha256=b8df048e52ff2f23cb3c4eb80cdcc7ada5f9363e8c37c569d37ec5cbc3649ccf\n",
            "  Stored in directory: /root/.cache/pip/wheels/fe/f6/cb/40331472edf4fd399b8cad02973c6acbdf26898342928327fe\n",
            "Successfully built lap filterpy\n",
            "Installing collected packages: lap, urllib3, sentry-sdk, filterpy, ultralytics\n",
            "  Attempting uninstall: urllib3\n",
            "    Found existing installation: urllib3 1.24.3\n",
            "    Uninstalling urllib3-1.24.3:\n",
            "      Successfully uninstalled urllib3-1.24.3\n",
            "Successfully installed filterpy-1.4.5 lap-0.4.0 sentry-sdk-1.14.0 ultralytics-8.0.20 urllib3-1.26.14\n"
          ]
        }
      ]
    },
    {
      "cell_type": "code",
      "source": [
        "!python3 track.py --source '/content/vid_001 (2).mp4' --save-vid --yolo-weights yolov5m.pt --img 1280"
      ],
      "metadata": {
        "colab": {
          "base_uri": "https://localhost:8080/"
        },
        "id": "UJGKw5skAK0R",
        "outputId": "e05643ce-cf7e-4344-c807-6605180941cd"
      },
      "execution_count": null,
      "outputs": [
        {
          "output_type": "stream",
          "name": "stdout",
          "text": [
            "\u001b[34m\u001b[1mtrack: \u001b[0myolo_weights=[PosixPath('yolov5m.pt')], reid_weights=/content/yolov5_deepsort/Yolov5_DeepSort_Pytorch/weights/osnet_x0_25_msmt17.pt, tracking_method=bytetrack, tracking_config=trackers/bytetrack/configs/bytetrack.yaml, source=/content/vid_001 (2).mp4, imgsz=[1280, 1280], conf_thres=0.5, iou_thres=0.5, max_det=1000, device=, show_vid=False, save_txt=False, save_conf=False, save_crop=False, save_trajectories=False, save_vid=True, nosave=False, classes=None, agnostic_nms=False, augment=False, visualize=False, update=False, project=runs/track, name=exp, exist_ok=False, line_thickness=2, hide_labels=False, hide_conf=False, hide_class=False, half=False, dnn=False, vid_stride=1, retina_masks=False\n",
            "Ultralytics YOLOv8.0.20 🚀 Python-3.8.10 torch-1.13.1+cu116 CUDA:0 (Tesla T4, 15110MiB)\n",
            "Traceback (most recent call last):\n",
            "  File \"track.py\", line 365, in <module>\n",
            "    main(opt)\n",
            "  File \"track.py\", line 360, in main\n",
            "    run(**vars(opt))\n",
            "  File \"/usr/local/lib/python3.8/dist-packages/torch/autograd/grad_mode.py\", line 27, in decorate_context\n",
            "    return func(*args, **kwargs)\n",
            "  File \"track.py\", line 104, in run\n",
            "    model = AutoBackend(yolo_weights, device=device, dnn=dnn, fp16=half)\n",
            "  File \"/content/yolov5_deepsort/Yolov5_DeepSort_Pytorch/yolov8/ultralytics/nn/autobackend.py\", line 74, in __init__\n",
            "    model = attempt_load_weights(weights if isinstance(weights, list) else w,\n",
            "  File \"/usr/local/lib/python3.8/dist-packages/ultralytics/nn/tasks.py\", line 348, in attempt_load_weights\n",
            "    ckpt = torch_safe_load(w)  # load ckpt\n",
            "  File \"/usr/local/lib/python3.8/dist-packages/ultralytics/nn/tasks.py\", line 332, in torch_safe_load\n",
            "    return torch.load(file, map_location='cpu')  # load\n",
            "  File \"/usr/local/lib/python3.8/dist-packages/torch/serialization.py\", line 771, in load\n",
            "    with _open_file_like(f, 'rb') as opened_file:\n",
            "  File \"/usr/local/lib/python3.8/dist-packages/torch/serialization.py\", line 270, in _open_file_like\n",
            "    return _open_file(name_or_buffer, mode)\n",
            "  File \"/usr/local/lib/python3.8/dist-packages/torch/serialization.py\", line 251, in __init__\n",
            "    super(_open_file, self).__init__(open(name, mode))\n",
            "FileNotFoundError: [Errno 2] No such file or directory: 'yolov5m.pt'\n"
          ]
        }
      ]
    },
    {
      "cell_type": "code",
      "source": [
        "!python3 track.py --source 0 --show-vid "
      ],
      "metadata": {
        "colab": {
          "base_uri": "https://localhost:8080/"
        },
        "id": "m-c0tv3VaeIU",
        "outputId": "1eb4f89f-9aed-43ca-8386-f251f534e8b5"
      },
      "execution_count": null,
      "outputs": [
        {
          "output_type": "stream",
          "name": "stdout",
          "text": [
            "\u001b[34m\u001b[1mtrack: \u001b[0myolo_weights=/content/yolov5_deepsort/Yolov5_DeepSort_Pytorch/weights/yolov5s-seg.pt, reid_weights=/content/yolov5_deepsort/Yolov5_DeepSort_Pytorch/weights/osnet_x0_25_msmt17.pt, tracking_method=strongsort, source=0, imgsz=[640, 640], conf_thres=0.5, iou_thres=0.5, max_det=1000, device=, show_vid=True, save_txt=False, save_conf=False, save_crop=False, save_trajectories=False, save_vid=False, nosave=False, classes=None, agnostic_nms=False, augment=False, visualize=False, update=False, project=runs/track, name=exp, exist_ok=False, line_thickness=2, hide_labels=False, hide_conf=False, hide_class=False, half=False, dnn=False, vid_stride=1, retina_masks=False\n",
            "YOLOv5 🚀 2022-12-21 Python-3.8.16 torch-1.13.0+cu116 CUDA:0 (Tesla T4, 15110MiB)\n",
            "\n",
            "Fusing layers... \n",
            "YOLOv5s-seg summary: 224 layers, 7611485 parameters, 0 gradients, 26.4 GFLOPs\n",
            "[ WARN:0@5.664] global /io/opencv/modules/videoio/src/cap_v4l.cpp (902) open VIDEOIO(V4L2:/dev/video0): can't open camera by index\n",
            "Traceback (most recent call last):\n",
            "  File \"track.py\", line 342, in <module>\n",
            "    main(opt)\n",
            "  File \"track.py\", line 337, in main\n",
            "    run(**vars(opt))\n",
            "  File \"/usr/local/lib/python3.8/dist-packages/torch/autograd/grad_mode.py\", line 27, in decorate_context\n",
            "    return func(*args, **kwargs)\n",
            "  File \"track.py\", line 107, in run\n",
            "    dataset = LoadStreams(source, img_size=imgsz, stride=stride, auto=pt, vid_stride=vid_stride)\n",
            "  File \"/content/yolov5_deepsort/Yolov5_DeepSort_Pytorch/yolov5/utils/dataloaders.py\", line 366, in __init__\n",
            "    assert cap.isOpened(), f'{st}Failed to open {s}'\n",
            "AssertionError: 1/1: 0... Failed to open 0\n"
          ]
        }
      ]
    }
  ]
}